{
  "nbformat": 4,
  "nbformat_minor": 0,
  "metadata": {
    "colab": {
      "provenance": []
    },
    "kernelspec": {
      "name": "python3",
      "display_name": "Python 3"
    },
    "language_info": {
      "name": "python"
    }
  },
  "cells": [
    {
      "cell_type": "markdown",
      "source": [
        "# Google Colab\n",
        "\n",
        "- Googleの提供する機械学習プラットフォーム\n",
        "- Pythonを使ってコードを実行できる\n",
        "- 機械学習の様々なライブラリが用意されている\n",
        "\n",
        "## Google Colabの使い方\n",
        "\n",
        "- Ctrl - Enter キーでコードブロックを実行できる\n",
        "- Ctrl - m, b キーで、後ろにコードブロックを追加できる\n",
        "- Ctrl - m, a キーで、前にコードブロックを追加できる\n",
        "\n",
        "> かじょうがき（箇条書き）で、短い文章を書けるようになると、仕事に役立ちます\n",
        "\n",
        "## Makdown\n",
        "\n",
        "- 簡易な表記でHTMLコードを生成できる\n",
        "- たとえば `#` は `<h1>` タグに置き換わる\n",
        "- `-` は箇条書き`<ul>, <li>`を作成する\n",
        "\n",
        "> Google ColabはMarkdownフォーマットをサポートしています\n"
      ],
      "metadata": {
        "id": "gw1Ebi1j-tQn"
      }
    },
    {
      "cell_type": "code",
      "source": [
        "# 平均を計算するコード : 70\n",
        "scores = [70, 90, 50, 80, 60]\n",
        "\n",
        "# 平均値を出力してください\n",
        "total = 0\n",
        "for score in scores:\n",
        "  total += score\n",
        "\n",
        "# mean: 平均という意味\n",
        "mean = total / len(scores)\n",
        "# print(mean)\n",
        "# 最後の1行は変数を書くと、その値が出力される\n",
        "mean"
      ],
      "metadata": {
        "colab": {
          "base_uri": "https://localhost:8080/"
        },
        "id": "SmV6CbKnBfVd",
        "outputId": "8ec7a250-9f24-4d96-da55-8b414f036cfd"
      },
      "execution_count": null,
      "outputs": [
        {
          "output_type": "execute_result",
          "data": {
            "text/plain": [
              "70.0"
            ]
          },
          "metadata": {},
          "execution_count": 4
        }
      ]
    },
    {
      "cell_type": "code",
      "source": [
        "# 平均を求める関数 my_mean を定義してください\n",
        "def my_mean(my_list):\n",
        "  total = 0\n",
        "  for score in scores:\n",
        "    total += score\n",
        "  mean = total / len(scores)\n",
        "  return mean\n",
        "\n",
        "# scores変数を再利用している\n",
        "mean = my_mean(scores)\n",
        "mean\n"
      ],
      "metadata": {
        "colab": {
          "base_uri": "https://localhost:8080/"
        },
        "id": "hGTGvg1JDKs2",
        "outputId": "073ec8e9-c629-4065-8127-42a1aecf8a34"
      },
      "execution_count": null,
      "outputs": [
        {
          "output_type": "execute_result",
          "data": {
            "text/plain": [
              "70.0"
            ]
          },
          "metadata": {},
          "execution_count": 5
        }
      ]
    },
    {
      "cell_type": "markdown",
      "source": [
        "## 平均\n",
        "\n",
        "- データの中心（重心）を示す値\n",
        "\n",
        "$$\n",
        "Mean = \\frac{1}{n}  \\sum_{i = 1}^n x_i\n",
        "$$\n",
        "\n",
        "> LaTeX（ラテフ） という表記法で数式を記述しています"
      ],
      "metadata": {
        "id": "eUqOKHsZEmVu"
      }
    },
    {
      "cell_type": "markdown",
      "source": [
        "## 分散（Variance）\n",
        "\n",
        "- データのばらつきを示す値\n",
        "- 平均と各値の差（2乗した平均）を数値化したもの\n",
        "\n",
        "$$\n",
        "Variance = \\frac{1}{n} \\sum_{i=1}^n (x_i - \\bar{x})^2\n",
        "$$\n",
        "\n",
        "### 例：\n",
        "\n",
        "- scores = [70, 90, 50, 80, 60]\n",
        "- 平均：70\n",
        "- ((70 - 70)^2 + (90 - 70)^2 + (50 - 70)^2 + (80 - 70)^2 + (60 - 70)^2) / 5\n",
        "- 分散：200\n",
        "\n",
        "\n",
        "### 分散を理解するポイント\n",
        "\n",
        "- scores1 = [70, 90, 50, 80, 60]\n",
        "  - 平均：70\n",
        "  - 平均点から離れた人もいる\n",
        "  - 分散：200\n",
        "\n",
        "- scores2 = [70, 80, 60, 75, 65]\n",
        "  - 平均：70\n",
        "  - 平均点のまわりにみんな集まっている\n",
        "  - 分散：200よりも小さい（仮説）"
      ],
      "metadata": {
        "id": "Bn3ArKTkGE2-"
      }
    },
    {
      "cell_type": "code",
      "source": [
        "# 分散を計算するコード\n",
        "scores = [70, 90, 50, 80, 60]\n",
        "scores_mean = my_mean(scores) # 70\n",
        "\n",
        "total = 0\n",
        "for score in scores:\n",
        "  total += (score - scores_mean) ** 2\n",
        "variance = total / len(scores)\n",
        "variance"
      ],
      "metadata": {
        "colab": {
          "base_uri": "https://localhost:8080/"
        },
        "id": "4F0DfJqrCEvo",
        "outputId": "45fc6f6e-edeb-4c54-96ae-ad64b82a74dc"
      },
      "execution_count": null,
      "outputs": [
        {
          "output_type": "execute_result",
          "data": {
            "text/plain": [
              "200.0"
            ]
          },
          "metadata": {},
          "execution_count": 6
        }
      ]
    },
    {
      "cell_type": "code",
      "source": [
        "# 分散を求める関数 my_variance を定義します\n",
        "def my_variance(my_list):\n",
        "  mean = my_mean(my_list)\n",
        "  total = 0\n",
        "  for elem in my_list:\n",
        "    total += (elem - mean) ** 2\n",
        "  variance = total / len(my_list)\n",
        "  return variance\n",
        "\n",
        "my_variance(scores)"
      ],
      "metadata": {
        "colab": {
          "base_uri": "https://localhost:8080/"
        },
        "id": "YaPIqSdKEjpd",
        "outputId": "2268aff0-dbaa-4405-e28e-de2e38f1d592"
      },
      "execution_count": null,
      "outputs": [
        {
          "output_type": "execute_result",
          "data": {
            "text/plain": [
              "200.0"
            ]
          },
          "metadata": {},
          "execution_count": 9
        }
      ]
    },
    {
      "cell_type": "code",
      "source": [
        "scores2 = [70, 80, 60, 75, 65]\n",
        "my_variance(scores2)"
      ],
      "metadata": {
        "colab": {
          "base_uri": "https://localhost:8080/"
        },
        "id": "Le5Ub199Eca2",
        "outputId": "512e4811-7589-4381-f19f-981d20f7ce26"
      },
      "execution_count": null,
      "outputs": [
        {
          "output_type": "execute_result",
          "data": {
            "text/plain": [
              "50.0"
            ]
          },
          "metadata": {},
          "execution_count": 10
        }
      ]
    },
    {
      "cell_type": "markdown",
      "source": [],
      "metadata": {
        "id": "SpDbteNYMLbk"
      }
    },
    {
      "cell_type": "markdown",
      "source": [
        "## 標準偏差（Standard Deviation）\n",
        "\n",
        "- 分散と同じく、データのばらつきを示す値\n",
        "- 分散は、計算過程で2乗しているので、数値の意味が理解しにくい（単位が変わってしまう）\n",
        "- 標準偏差は、分散の平方根（√した値」）である\n",
        "\n",
        "$$\n",
        "STD = \\sqrt{Variance}\n",
        "$$\n",
        "\n",
        "### 例：\n",
        "\n",
        "- 分散：200\n",
        "- 標準偏差：14.14"
      ],
      "metadata": {
        "id": "c4Za1iRkMKdG"
      }
    },
    {
      "cell_type": "code",
      "source": [
        "variance = my_variance(scores)\n",
        "std = variance ** 0.5\n",
        "std"
      ],
      "metadata": {
        "colab": {
          "base_uri": "https://localhost:8080/"
        },
        "id": "_-2DzKcBNC-e",
        "outputId": "0dffa24f-541e-4ceb-f114-5a6f27775e1e"
      },
      "execution_count": null,
      "outputs": [
        {
          "output_type": "execute_result",
          "data": {
            "text/plain": [
              "14.142135623730951"
            ]
          },
          "metadata": {},
          "execution_count": 13
        }
      ]
    },
    {
      "cell_type": "code",
      "source": [
        "variance2 = my_variance(scores2)\n",
        "std2 = variance2 ** 0.5\n",
        "std2"
      ],
      "metadata": {
        "colab": {
          "base_uri": "https://localhost:8080/"
        },
        "id": "G6ZGm8ZBNeDF",
        "outputId": "62ddb408-95f2-4764-b674-c856fe541afd"
      },
      "execution_count": null,
      "outputs": [
        {
          "output_type": "execute_result",
          "data": {
            "text/plain": [
              "7.0710678118654755"
            ]
          },
          "metadata": {},
          "execution_count": 14
        }
      ]
    },
    {
      "cell_type": "markdown",
      "source": [
        "## 平均・分散・標準偏差まとめ\n",
        "\n",
        "- scores1, score2は平均だけ見ると同じである\n",
        "- しかし、scores1, score2の分散は異なる（ばらつき具合は異なる）\n",
        "- 分散は直感的な値でないので、標準偏差を見ると理解しやすい\n",
        "\n",
        "|         | scores1 | scores2 |\n",
        "| :--     | --:     | --:     |\n",
        "|平均     |   70    | 70      |\n",
        "|分散     |   200   | 50      |\n",
        "|標準偏差 |   14    |  7      |\n",
        "\n",
        "### 補足\n",
        "\n",
        "- 直感的な理解としては、70 +- 14 と解釈してよい ※scores1の場合\n",
        "- 厳密に説明する場合は、データが正規分布に従う場合、以下の説明ができる\n",
        "  - 平均 +- 1STD の間にデータの約68%が集まる\n",
        "  - 平均 +- 2STD の間にデータの約95%が集まる\n",
        "  - 平均 +- 3STD の間にデータの約99%が集まる\n",
        "\n",
        "- 例：正規分布している場合\n",
        "  - 70 +- 14 の間にデータの約68%が集まる\n",
        "  - 70 +- 28 の間にデータの約95%が集まる\n",
        "  - 70 +- 42 の間にデータの約99%が集まる"
      ],
      "metadata": {
        "id": "xpnaD4psNmo1"
      }
    }
  ]
}