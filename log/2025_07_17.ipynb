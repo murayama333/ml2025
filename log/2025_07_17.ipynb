{
  "nbformat": 4,
  "nbformat_minor": 0,
  "metadata": {
    "colab": {
      "provenance": []
    },
    "kernelspec": {
      "name": "python3",
      "display_name": "Python 3"
    },
    "language_info": {
      "name": "python"
    }
  },
  "cells": [
    {
      "cell_type": "markdown",
      "source": [
        "# Pythonの復習\n",
        "\n",
        "- ctrl - m, m"
      ],
      "metadata": {
        "id": "M0Eu55AVsJfL"
      }
    },
    {
      "cell_type": "markdown",
      "source": [
        "## リストの操作"
      ],
      "metadata": {
        "id": "afEDbTJlw8Kb"
      }
    },
    {
      "cell_type": "code",
      "source": [
        "# リストの操作\n",
        "numbers = [1, 2, 3, 4, 5, 6, 7, 8, 9, 10]\n",
        "print(numbers)\n",
        "\n",
        "# リストの要素数を出力してください\n",
        "print(len(numbers))\n",
        "\n",
        "# リストの合計を出力してください\n",
        "print(sum(numbers))\n",
        "\n",
        "# リストの平均を出力してください\n",
        "print(sum(numbers) / len(numbers))"
      ],
      "metadata": {
        "colab": {
          "base_uri": "https://localhost:8080/"
        },
        "id": "ueoH0n_AvM7C",
        "outputId": "dc00cb06-285b-475b-9691-16181fa72e08"
      },
      "execution_count": null,
      "outputs": [
        {
          "output_type": "stream",
          "name": "stdout",
          "text": [
            "[1, 2, 3, 4, 5, 6, 7, 8, 9, 10]\n",
            "10\n",
            "55\n",
            "5.5\n"
          ]
        }
      ]
    },
    {
      "cell_type": "code",
      "source": [
        "# リストのインデックス操作\n",
        "numbers\n",
        "\n",
        "# 5を出力してください\n",
        "print(numbers[4])\n",
        "\n",
        "# 5, 6, 7の配列を出力してください\n",
        "print(numbers[4:7])\n",
        "\n",
        "# 8, 9, 10の配列を出力してください\n",
        "print(numbers[7:])\n",
        "\n",
        "# numbersはlistオブジェクトです\n",
        "type(numbers)"
      ],
      "metadata": {
        "colab": {
          "base_uri": "https://localhost:8080/"
        },
        "id": "Y5gqmkKCwBHL",
        "outputId": "5686ed97-88cc-460a-b419-5a17c5619e97"
      },
      "execution_count": null,
      "outputs": [
        {
          "output_type": "stream",
          "name": "stdout",
          "text": [
            "5\n",
            "[5, 6, 7]\n",
            "[8, 9, 10]\n"
          ]
        },
        {
          "output_type": "execute_result",
          "data": {
            "text/plain": [
              "list"
            ]
          },
          "metadata": {},
          "execution_count": 12
        }
      ]
    },
    {
      "cell_type": "markdown",
      "source": [
        "## NumPy\n",
        "\n",
        "- 高速な数値計算を可能にするPythonライブラリ\n",
        "- ディープラーニングなどの機械学習で広く利用されている\n",
        "- 「NumPy配列」（ndarrayオブジェクト）によって手軽に高速な演算が可能となる"
      ],
      "metadata": {
        "id": "5lx1qQ4SxFsS"
      }
    },
    {
      "cell_type": "code",
      "source": [
        "import numpy as np\n",
        "\n",
        "a = np.array([[1, 2, 3], [4, 5, 6]])\n",
        "print(a)\n",
        "type(a) # numpy.ndarray"
      ],
      "metadata": {
        "colab": {
          "base_uri": "https://localhost:8080/"
        },
        "id": "5wxVsrkazNC6",
        "outputId": "6297ffe3-7085-427d-b3cd-76c60ef948cc"
      },
      "execution_count": null,
      "outputs": [
        {
          "output_type": "stream",
          "name": "stdout",
          "text": [
            "[[1 2 3]\n",
            " [4 5 6]]\n"
          ]
        },
        {
          "output_type": "execute_result",
          "data": {
            "text/plain": [
              "numpy.ndarray"
            ]
          },
          "metadata": {},
          "execution_count": 18
        }
      ]
    },
    {
      "cell_type": "markdown",
      "source": [
        "### NumPy配列の属性\n",
        "\n",
        "- size\n",
        "  - NumPy配列の要素数\n",
        "- ndim\n",
        "  - NumPy配列の次元数\n",
        "- shape\n",
        "  - NumPy配列の形状 例：（2, 3）\n",
        "- dtype\n",
        "  - NumPy配列の要素の型"
      ],
      "metadata": {
        "id": "KnMoEDHf1DYx"
      }
    },
    {
      "cell_type": "code",
      "source": [
        "# NumPy配列の属性（プロパティ）\n",
        "print(a.size) # 要素数\n",
        "\n",
        "print(a.ndim) # 次元数 この場合、2次元\n",
        "print(a.shape) # 形状 (2, 3)\n",
        "\n",
        "print(a.dtype) # int64 配列の要素が何型か、を確認できる"
      ],
      "metadata": {
        "colab": {
          "base_uri": "https://localhost:8080/"
        },
        "id": "ovb2M8nHz3kS",
        "outputId": "b814fa20-99d2-4b22-ea57-c536017c7c40"
      },
      "execution_count": null,
      "outputs": [
        {
          "output_type": "stream",
          "name": "stdout",
          "text": [
            "6\n",
            "2\n",
            "(2, 3)\n",
            "int64\n"
          ]
        }
      ]
    },
    {
      "cell_type": "markdown",
      "source": [
        "# NumPy配列の生成\n",
        "\n",
        "- np.array()\n",
        "  - リスト（タプル）をNumPy配列に変換する\n",
        "- np.arange()\n",
        "  - 指定した範囲と、間隔で、等差数列の配列を生成する\n",
        "- np.linspace()\n",
        "  - 指定した範囲を、等間隔に分割した値で配列を生成する"
      ],
      "metadata": {
        "id": "nzNA_4uT3DSh"
      }
    },
    {
      "cell_type": "code",
      "source": [
        "# Numpy配列の生成\n",
        "\n",
        "# np.array\n",
        "a = np.array([1, 2, 3], dtype=\"float64\") # dtypeで要素の型指定\n",
        "print(a)\n",
        "\n",
        "# np.arange\n",
        "b = np.arange(10, 30, 5)\n",
        "print(b)\n",
        "\n",
        "# np.linspace\n",
        "c = np.linspace(10, 30, 6) # 10～30 6等分（1/6にする）\n",
        "print(c)"
      ],
      "metadata": {
        "colab": {
          "base_uri": "https://localhost:8080/"
        },
        "id": "JDUPYVbm1zBh",
        "outputId": "ae41470c-4358-4159-dab5-c95dd62190be"
      },
      "execution_count": null,
      "outputs": [
        {
          "output_type": "stream",
          "name": "stdout",
          "text": [
            "[1. 2. 3.]\n",
            "[10 15 20 25]\n",
            "[10. 14. 18. 22. 26. 30.]\n"
          ]
        }
      ]
    },
    {
      "cell_type": "markdown",
      "source": [
        "### NumPy配列の変換\n",
        "\n",
        "- reshape()\n",
        "  - NumPyh配列の形状を変更する\n",
        "  - 引数に `-1` を指定すると、自動的に次元数を補完する\n",
        "  - ただし、元の要素数と、引数の値が一致しない場合は `ValueError` が発生する\n",
        "\n"
      ],
      "metadata": {
        "id": "6lCEGjki47v5"
      }
    },
    {
      "cell_type": "code",
      "source": [
        "# NumPy配列の変換\n",
        "\n",
        "a = np.arange(1, 7)\n",
        "b = a.reshape(2, -1) # 2 x 3\n",
        "c = a.reshape(6, -1) # 6 x 1\n",
        "d = a.reshape(3, -1) # 最後の引数にマイナス値が使えます\n",
        "\n",
        "print(a)\n",
        "print(b)\n",
        "print(c)\n",
        "\n",
        "print(d)"
      ],
      "metadata": {
        "colab": {
          "base_uri": "https://localhost:8080/"
        },
        "id": "s0ynwiRB33oB",
        "outputId": "fa8bfdb8-dfa5-4eed-ac01-d6acca5af898"
      },
      "execution_count": null,
      "outputs": [
        {
          "output_type": "stream",
          "name": "stdout",
          "text": [
            "[1 2 3 4 5 6]\n",
            "[[1 2 3]\n",
            " [4 5 6]]\n",
            "[[1]\n",
            " [2]\n",
            " [3]\n",
            " [4]\n",
            " [5]\n",
            " [6]]\n",
            "[[1 2]\n",
            " [3 4]\n",
            " [5 6]]\n"
          ]
        }
      ]
    },
    {
      "cell_type": "markdown",
      "source": [
        "## NumPy配列のインデックス操作\n",
        "\n",
        "- NumPy配列はリストやタプルのようにインデックス指定可能\n",
        "- N次元の配列では `,` を使って次元ごとのインデックスを指定できる\n",
        "- boolean index（ブールインデックス）を使ってフィルタリングできる\n",
        "  - bool\n",
        "    - データ型のひとつ\n",
        "    - 真偽型（論理値型）\n",
        "    - true, false"
      ],
      "metadata": {
        "id": "LUaUurQU6kFZ"
      }
    },
    {
      "cell_type": "code",
      "source": [
        "# インデックス操作\n",
        "a = np.arange(0, 100).reshape(10, -1)\n",
        "print(a)\n",
        "\n",
        "print(a[1])\n",
        "print(a[1, 1]) # , 区切りでインデックス指定可能\n",
        "print(a[1:5, 1:5])\n",
        "print(a[:, 1]) # 1列目のみ取得"
      ],
      "metadata": {
        "colab": {
          "base_uri": "https://localhost:8080/"
        },
        "collapsed": true,
        "id": "A37g3qGs5nEa",
        "outputId": "64d3b929-0cbe-4473-813a-b783cf8b7f9a"
      },
      "execution_count": null,
      "outputs": [
        {
          "output_type": "stream",
          "name": "stdout",
          "text": [
            "[[ 0  1  2  3  4  5  6  7  8  9]\n",
            " [10 11 12 13 14 15 16 17 18 19]\n",
            " [20 21 22 23 24 25 26 27 28 29]\n",
            " [30 31 32 33 34 35 36 37 38 39]\n",
            " [40 41 42 43 44 45 46 47 48 49]\n",
            " [50 51 52 53 54 55 56 57 58 59]\n",
            " [60 61 62 63 64 65 66 67 68 69]\n",
            " [70 71 72 73 74 75 76 77 78 79]\n",
            " [80 81 82 83 84 85 86 87 88 89]\n",
            " [90 91 92 93 94 95 96 97 98 99]]\n",
            "[10 11 12 13 14 15 16 17 18 19]\n",
            "11\n",
            "[[11 12 13 14]\n",
            " [21 22 23 24]\n",
            " [31 32 33 34]\n",
            " [41 42 43 44]]\n",
            "[ 1 11 21 31 41 51 61 71 81 91]\n"
          ]
        }
      ]
    },
    {
      "cell_type": "code",
      "source": [
        "# ブールインデックス\n",
        "a = np.array([80, 60, 30, 70, 40])\n",
        "print(a < 50) # [False False  True False  True]\n",
        "\n",
        "# a[a < 50] # ブールインデックス指定\n",
        "a[a < 50] = 0\n",
        "print(a)"
      ],
      "metadata": {
        "colab": {
          "base_uri": "https://localhost:8080/"
        },
        "id": "q1FJRPcz7osh",
        "outputId": "bba2887f-c5af-43a8-d664-0a88a7d89304"
      },
      "execution_count": null,
      "outputs": [
        {
          "output_type": "stream",
          "name": "stdout",
          "text": [
            "[False False  True False  True]\n",
            "[80 60  0 70  0]\n"
          ]
        }
      ]
    },
    {
      "cell_type": "markdown",
      "source": [
        "### NumPy配列の統計関数\n",
        "\n",
        "- np.sum()\n",
        "  - 合計値を返す\n",
        "\n",
        "- np.mean()\n",
        "  - 平均値を返す\n",
        "\n",
        "- np.var()\n",
        "  - 分散（Variance）を返す\n",
        "\n",
        "$$\n",
        "Variance = \\frac{1}{n} \\sum_{i=1}^n (x_i - \\bar{x})^2\n",
        "$$\n",
        "\n",
        "\n",
        "> 補足：分散は2種類あって、統計の世界では「不偏分散（unbiased variance）」という分散もあります。\n",
        "\n",
        "$$\n",
        "Unbaised Variance = \\frac{1}{n - 1} \\sum_{i=1}^n (x_i - \\bar{x})^2\n",
        "$$\n",
        "\n",
        "> NumPyも不偏分散をサポートしています。varメソッドの引数に `ddof=1` を指定すると不偏分散になります。\n",
        "\n",
        "- np.std()\n",
        "  - 標準偏差（Standard Deviation）を返す\n"
      ],
      "metadata": {
        "id": "43wBiKqO9Mgg"
      }
    },
    {
      "cell_type": "code",
      "source": [
        "# NumPy配列の統計関数\n",
        "\n",
        "a = np.array([50, 60, 80, 60, 50])\n",
        "print(a)\n",
        "\n",
        "# 合計\n",
        "print(a.sum())\n",
        "\n",
        "# 平均\n",
        "print(a.mean())\n",
        "\n",
        "# 分散\n",
        "print(a.var(ddof=1)) # ddof=1を指定すると不偏分散（ 1 / (n - 1) ）\n",
        "\n",
        "# 標準偏差\n",
        "print(a.std())"
      ],
      "metadata": {
        "colab": {
          "base_uri": "https://localhost:8080/"
        },
        "id": "bp-OzmXe8hqI",
        "outputId": "ef5d6f36-7a3e-4a5d-fd8c-0de495da4e76"
      },
      "execution_count": null,
      "outputs": [
        {
          "output_type": "stream",
          "name": "stdout",
          "text": [
            "[50 60 80 60 50]\n",
            "300\n",
            "60.0\n",
            "150.0\n",
            "10.954451150103322\n"
          ]
        }
      ]
    },
    {
      "cell_type": "markdown",
      "source": [
        "### 乱数の生成\n",
        "\n",
        "- np.random.rand()\n",
        "  - 一様分布（0～1）の乱数を生成する\n",
        "\n",
        "- np.random.randn()\n",
        "  - 標準正規分布（平均：0, 分散：1）の乱数を生成する\n"
      ],
      "metadata": {
        "id": "wn2wCduXBfmY"
      }
    },
    {
      "cell_type": "code",
      "source": [
        "# 乱数の生成\n",
        "\n",
        "# 乱数のシード\n",
        "np.random.seed(123) # 引数に任意の値をセットする\n",
        "\n",
        "a = np.random.rand(5, 3) # 0～1の範囲の乱数をN件生成（一様分布: Uniform Distribution）\n",
        "print(a)\n",
        "\n",
        "# 平均：0、分散：1 の正規分布（＝標準正規分布という）\n",
        "b = np. random.randn(10) # 標準正規分布に従って乱数をN件生成（正規分布：Normal Distribution）\n",
        "print(b)"
      ],
      "metadata": {
        "colab": {
          "base_uri": "https://localhost:8080/"
        },
        "id": "zsKezjpA_f3q",
        "outputId": "31cf9395-e6ad-432d-83e9-70ca3ae26cf5"
      },
      "execution_count": null,
      "outputs": [
        {
          "output_type": "stream",
          "name": "stdout",
          "text": [
            "[[0.69646919 0.28613933 0.22685145]\n",
            " [0.55131477 0.71946897 0.42310646]\n",
            " [0.9807642  0.68482974 0.4809319 ]\n",
            " [0.39211752 0.34317802 0.72904971]\n",
            " [0.43857224 0.0596779  0.39804426]]\n",
            "[-0.76943347  0.57674602  0.12652592 -1.30148897  2.20742744  0.52274247\n",
            "  0.46564476  0.72491523  1.49582653  0.74658059]\n"
          ]
        }
      ]
    },
    {
      "cell_type": "markdown",
      "source": [
        "# 機械学習 - 概要\n",
        "\n",
        "## 機械学習とは\n",
        "\n",
        "- データをアルゴリズムに基づいて学習し、モデル（パターン・数式）を作成すること\n",
        "\n",
        "## 機械学習の種類\n",
        "\n",
        "- 教師あり学習\n",
        "  - データと答え（教師データ）を用意して学習する手法\n",
        "  - 分類問題、回帰問題に分かれる\n",
        "\n",
        "- 分類：分けること\n",
        "- 回帰：数値を予測すること\n",
        "\n",
        "- 教師なし学習\n",
        "  - データのみ用意して学習する手法（教師データなし）\n",
        "  - クラスタリング、次元削減、といった手法がある\n",
        "\n",
        "> 上記2つ以外にも、強化学習といった分野もあります。\n",
        "\n",
        "## 訓練データとテストデータ\n",
        "\n",
        "- 学習に使うデータは、訓練データとテストデータに分割する\n",
        "  - 訓練データ\n",
        "    - モデルの学習に利用する\n",
        "  - テストデータ\n",
        "    - 学習済みモデルの評価に利用する\n"
      ],
      "metadata": {
        "id": "VJzzcbaaFUZh"
      }
    },
    {
      "cell_type": "markdown",
      "source": [
        "## scikit-learn\n",
        "\n",
        "- Pythonの機械学習ライブラリ\n",
        "  - https://scikit-learn.org/stable/\n",
        "\n",
        "- Classification, Regression, Clustering, Dimentionality Reduction\n",
        "  - 分類、回帰、クラスタリング、次元削減\n",
        "\n",
        "- データの前処理、学習済みモデルの評価もサポートする\n",
        "\n",
        "> ここからは、線形回帰アルゴリズムについて見ていきます。\n"
      ],
      "metadata": {
        "id": "6XTWRKn1HHiI"
      }
    },
    {
      "cell_type": "markdown",
      "source": [
        "## 機械学習 - 教師あり学習 - 回帰問題\n",
        "\n",
        "### 例１ - LinearRegression（線形回帰）\n",
        "\n",
        "- 以下の数式について考えてみましょう\n",
        "\n",
        "$$\n",
        "y = 5 x + 10\n",
        "$$\n"
      ],
      "metadata": {
        "id": "U5eYrgOmI9yZ"
      }
    },
    {
      "cell_type": "code",
      "source": [
        "import numpy as np\n",
        "import matplotlib.pyplot as plt\n",
        "\n",
        "x = np.linspace(0, 10, 11)\n",
        "y = 5 * x + 10\n",
        "\n",
        "# グラフにx, y を表示する\n",
        "plt.grid()\n",
        "plt.xlim(0, 10)\n",
        "plt.ylim(0, 70)\n",
        "plt.plot(x, y)\n",
        "plt.show()"
      ],
      "metadata": {
        "colab": {
          "base_uri": "https://localhost:8080/",
          "height": 435
        },
        "id": "YDeL27JDJjUP",
        "outputId": "dc00c123-a7e1-44db-bfbd-8665dda5264f"
      },
      "execution_count": null,
      "outputs": [
        {
          "output_type": "display_data",
          "data": {
            "text/plain": [
              "<Figure size 640x480 with 1 Axes>"
            ],
            "image/png": "[encoded data removed]"
          },
          "metadata": {}
        }
      ]
    },
    {
      "cell_type": "markdown",
      "source": [
        "## 線形回帰アルゴリズム\n",
        "\n",
        "- `y = ? * x + ?`\n",
        "  - 式の係数（5）と、切片（10）をデータから算出する\n",
        "\n",
        "## サンプルデータ\n",
        "\n",
        "| x | y |\n",
        "|--:|--:|\n",
        "|  0| 10|\n",
        "|  1| 15|\n",
        "|  2| 20|\n",
        "|  3| 25|\n",
        "|...|...|\n",
        "|  9| 55|\n",
        "| 10| 60|"
      ],
      "metadata": {
        "id": "4yGg1PYzKm8Q"
      }
    },
    {
      "cell_type": "markdown",
      "source": [
        "## scikit-learnの使い方\n",
        "\n",
        "- モデルのインスタンスを生成する\n",
        "  - `model = LinearRegression()`\n",
        "- モデルを学習する（fit）\n",
        "  - `model.fit(x, y)`\n",
        "    - 注意：学習データxは二次元配列であること\n",
        "- 学習済みモデルを使って予測する（推論する ※すいろん、predict）\n",
        "  - `model.predict(data)`\n",
        "    - 戻り値に予測値が返る"
      ],
      "metadata": {
        "id": "3WdHsChqQLJv"
      }
    },
    {
      "cell_type": "code",
      "source": [
        "# LinearRegressionのimport\n",
        "from sklearn.linear_model import LinearRegression\n",
        "\n",
        "# サンプルデータ\n",
        "x = np.linspace(0, 10, 11).reshape(11, -1)\n",
        "y = np.linspace(10, 60, 11)\n",
        "print(x)\n",
        "print(y)\n",
        "\n",
        "# Point!\n",
        "# scikit-learnの学習データは2次元配列である必要がある\n",
        "# ×[ 0.  1.  2.  3.  4.  5.  6.  7.  8.  9. 10.]\n",
        "# 〇[ [0.],  [1.],  [2.],  [3.],  [4.],  [5.],  [6.],  [7.],  [8.],  [9.], [10.]]\n",
        "\n",
        "\n",
        "# 線形回帰モデルを生成\n",
        "model = LinearRegression()\n",
        "# データを学習する\n",
        "model.fit(x, y)\n",
        "\n",
        "# 学習済みのモデル（数値を予測できるようになる）\n",
        "data = [[11], [12], [13]]\n",
        "y_pred = model.predict(data)\n",
        "print(y_pred)"
      ],
      "metadata": {
        "colab": {
          "base_uri": "https://localhost:8080/"
        },
        "id": "NT3O6HJWLnso",
        "outputId": "391e0aeb-82e8-4048-b941-0399f5e1c3df"
      },
      "execution_count": null,
      "outputs": [
        {
          "output_type": "stream",
          "name": "stdout",
          "text": [
            "[[ 0.]\n",
            " [ 1.]\n",
            " [ 2.]\n",
            " [ 3.]\n",
            " [ 4.]\n",
            " [ 5.]\n",
            " [ 6.]\n",
            " [ 7.]\n",
            " [ 8.]\n",
            " [ 9.]\n",
            " [10.]]\n",
            "[10. 15. 20. 25. 30. 35. 40. 45. 50. 55. 60.]\n",
            "[65. 70. 75.]\n"
          ]
        }
      ]
    },
    {
      "cell_type": "markdown",
      "source": [
        "### 学習済みモデルのパラメータ\n",
        "\n",
        "- 線形回帰（LinearRegression）の場合、以下のパラメータが計算される\n",
        "  - coef_\n",
        "    - 係数（傾き）のこと\n",
        "  - intercept_\n",
        "    - 切片のこと\n",
        "\n",
        "#### scikit-learnのポイント！！\n",
        "\n",
        "- scikit-learnでは、学習によって生成されたパラメータには、名前の最後に`_`が付きます"
      ],
      "metadata": {
        "id": "e-KGRdV8SPRP"
      }
    },
    {
      "cell_type": "code",
      "source": [
        "# 学習済みモデルの中身は？\n",
        "\n",
        "# 今回は線形回帰アルゴリズムなので、\n",
        "# model.fit(x, y) によって、係数と切片が計算される\n",
        "# y = a x + b　※a, bが計算されたはず\n",
        "\n",
        "# a: 係数、英語でcoeficient\n",
        "print(model.coef_)\n",
        "\n",
        "# b: 切片、英語でintercept\n",
        "print(model.intercept_)\n"
      ],
      "metadata": {
        "colab": {
          "base_uri": "https://localhost:8080/"
        },
        "id": "X2Mjwix7RV6f",
        "outputId": "5fed8868-b9ef-48a3-f33e-a023e945b276"
      },
      "execution_count": null,
      "outputs": [
        {
          "output_type": "stream",
          "name": "stdout",
          "text": [
            "[5.]\n",
            "9.999999999999986\n"
          ]
        }
      ]
    },
    {
      "cell_type": "code",
      "source": [
        "# 学習済みモデルでグラフを表示する\n",
        "\n",
        "x_range = np.linspace(0, 1000, 1001).reshape(1001, -1)\n",
        "y_pred = model.predict(x_range)\n",
        "plt.grid()\n",
        "#plt.xlim(0, 10)\n",
        "# plt.ylim(0, 70)\n",
        "plt.plot(x_range, y_pred)\n",
        "plt.show()"
      ],
      "metadata": {
        "colab": {
          "base_uri": "https://localhost:8080/",
          "height": 430
        },
        "collapsed": true,
        "id": "IF520P3gTEJf",
        "outputId": "7d2ef133-584f-46f9-962b-2d32c5e65839"
      },
      "execution_count": null,
      "outputs": [
        {
          "output_type": "display_data",
          "data": {
            "text/plain": [
              "<Figure size 640x480 with 1 Axes>"
            ],
            "image/png": "[encoded data removed]"
          },
          "metadata": {}
        }
      ]
    },
    {
      "cell_type": "markdown",
      "source": [
        "## 演習\n",
        "\n",
        "- 以下のデータ、x, y を使って、線形回帰モデルを生成してください\n",
        "\n",
        "$$\n",
        "y = a * x + b\n",
        "$$\n",
        "\n",
        "> 係数：a、切片：bを求めてください"
      ],
      "metadata": {
        "id": "lwcxdfSdUZyf"
      }
    },
    {
      "cell_type": "code",
      "source": [
        "x = np.array([1, 2, 3, 4, 5, 6, 7, 8, 9]).reshape(-1, 1)\n",
        "y = np.array([4.4, 7.2, 13.8, 11.9, 16.2, 21.2, 25.0, 24.2, 26.8])\n",
        "\n",
        "model = LinearRegression()\n",
        "model.fit(x, y) # 学習\n",
        "y_pred = model.predict(x)\n",
        "\n",
        "plt.grid()\n",
        "plt.xlim(0, 10)\n",
        "plt.ylim(0, 30)\n",
        "plt.scatter(x, y) # 散布図\n",
        "plt.plot(x, y_pred)\n",
        "plt.show()\n",
        "\n",
        "# 係数、切片の確認\n",
        "print(model.coef_) # 2.87166667\n",
        "print(model.intercept_) # 2.3861111111111146\n",
        "# y = 2.87166667 x + 2.3861111111111146"
      ],
      "metadata": {
        "colab": {
          "base_uri": "https://localhost:8080/",
          "height": 471
        },
        "id": "PBjhuQgRUcyG",
        "outputId": "a7594c87-9072-4349-fe53-6a6925459804"
      },
      "execution_count": null,
      "outputs": [
        {
          "output_type": "display_data",
          "data": {
            "text/plain": [
              "<Figure size 640x480 with 1 Axes>"
            ],
            "image/png": "[encoded data removed]"
          },
          "metadata": {}
        },
        {
          "output_type": "stream",
          "name": "stdout",
          "text": [
            "[2.87166667]\n",
            "2.3861111111111146\n"
          ]
        }
      ]
    }
  ]
}