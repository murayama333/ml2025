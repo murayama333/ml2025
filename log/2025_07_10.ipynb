{
  "nbformat": 4,
  "nbformat_minor": 0,
  "metadata": {
    "colab": {
      "provenance": []
    },
    "kernelspec": {
      "name": "python3",
      "display_name": "Python 3"
    },
    "language_info": {
      "name": "python"
    }
  },
  "cells": [
    {
      "cell_type": "markdown",
      "source": [
        "# 機械学習/2025/07/10\n",
        "\n",
        "- 平均の実装\n",
        "- 分散の実装\n",
        "- 標準偏差の実装\n"
      ],
      "metadata": {
        "id": "itl78pl3tjdK"
      }
    },
    {
      "cell_type": "markdown",
      "source": [
        "## 平均の実装\n",
        "\n",
        "- データの中心（重心）を示す値\n",
        "\n",
        "$$\n",
        "Mean = \\frac{1}{n} \\sum_{i=1}^n x_i\n",
        "$$"
      ],
      "metadata": {
        "id": "NglBcREMvvX9"
      }
    },
    {
      "cell_type": "code",
      "source": [
        "scores1 = [70, 90, 50, 80, 60]\n",
        "scores2 = [70, 80, 60, 75, 65]"
      ],
      "metadata": {
        "id": "qYa8xnnSxVuV"
      },
      "execution_count": null,
      "outputs": []
    },
    {
      "cell_type": "code",
      "source": [
        "# 平均を計算する関数my_mean\n",
        "def my_mean(numbers):\n",
        "  total = 0\n",
        "  for number in numbers:\n",
        "    total += number\n",
        "  mean = total / len(numbers)\n",
        "  return mean"
      ],
      "metadata": {
        "id": "lUt0mwHxwrjm"
      },
      "execution_count": null,
      "outputs": []
    },
    {
      "cell_type": "code",
      "source": [
        "scores1_mean = my_mean(scores1)\n",
        "scores2_mean = my_mean(scores2)\n",
        "print(\"scores1 mean:\", scores1_mean)\n",
        "print(\"scores2 mean:\", scores2_mean)"
      ],
      "metadata": {
        "colab": {
          "base_uri": "https://localhost:8080/"
        },
        "id": "BsrqNBcLxtX2",
        "outputId": "e54721c7-fcb5-4b84-9f77-0644ab1c0fd1"
      },
      "execution_count": null,
      "outputs": [
        {
          "output_type": "stream",
          "name": "stdout",
          "text": [
            "scores1 mean: 70.0\n",
            "scores2 mean: 70.0\n"
          ]
        }
      ]
    },
    {
      "cell_type": "markdown",
      "source": [
        "## 分散の実装\n",
        "\n",
        "- データのばらつきを示す値\n",
        "\n",
        "$$\n",
        "Variance = \\frac{1}{n} \\sum_{i=1}^{n} (x_i - \\bar{x})^2\n",
        "$$\n",
        "\n",
        "> 数式の書き方を LaTex（ラテフ）と呼びます"
      ],
      "metadata": {
        "id": "pJKwZEcyzagX"
      }
    },
    {
      "cell_type": "code",
      "source": [
        "# 自分で実装してみてください\n",
        "\n",
        "def my_variance(numbers):\n",
        "  mean = my_mean(numbers)\n",
        "  total = 0\n",
        "  for number in numbers:\n",
        "    total += (number - mean)**2\n",
        "  variance = total / len(numbers)\n",
        "\n",
        "  return variance"
      ],
      "metadata": {
        "id": "1y4NYenr0kfG"
      },
      "execution_count": null,
      "outputs": []
    },
    {
      "cell_type": "code",
      "source": [
        "scores1_variance = my_variance(scores1)\n",
        "scores2_variance = my_variance(scores2)\n",
        "print(\"scores1 variance:\", scores1_variance)\n",
        "print(\"scores2 variance:\", scores2_variance)"
      ],
      "metadata": {
        "colab": {
          "base_uri": "https://localhost:8080/"
        },
        "id": "dV09Sotd3kCm",
        "outputId": "b02d17ed-19fd-446b-da86-f2f77fe03a29"
      },
      "execution_count": null,
      "outputs": [
        {
          "output_type": "stream",
          "name": "stdout",
          "text": [
            "scores1 variance: 200.0\n",
            "scores2 variance: 50.0\n"
          ]
        }
      ]
    },
    {
      "cell_type": "markdown",
      "source": [
        "### 分散のまとめ\n",
        "\n",
        "- scores1 の分散は 200\n",
        "- scores2 の分散は 50\n",
        "- よって、scores1 の方が、scores2よりばらつき（分散）が大きい\n",
        "\n",
        "\n",
        "#### 補足：分散の弱点\n",
        "\n",
        "- 分散は、計算の中で、2乗しているので、値が大きくなりやすい\n",
        "- つまり、分散の値だけ見ても、意味を理解するのが難しい\n",
        "- そのため、人間が理解しやすいように、分散から標準偏差に置き換える\n"
      ],
      "metadata": {
        "id": "LMyNwVvj4z0-"
      }
    },
    {
      "cell_type": "markdown",
      "source": [
        "## 標準偏差の実装\n",
        "\n",
        "- ひょうじゅんへんさ\n",
        "- 分散と同様に、データのばらつきを示す値\n",
        "- 分散の平方根（1/2乗）\n",
        "\n",
        "> 標準偏差は、英語で、Standard Deviation と呼びます\n",
        "\n",
        "$$\n",
        "STD = \\sqrt{Variance}\n",
        "$$\n"
      ],
      "metadata": {
        "id": "1VMDrOzo67EH"
      }
    },
    {
      "cell_type": "code",
      "source": [
        "def my_std(numbers):\n",
        "  variance = my_variance(numbers) # 分散\n",
        "  std = variance ** 0.5\n",
        "  return std"
      ],
      "metadata": {
        "id": "WjHYkeFJ8J9H"
      },
      "execution_count": null,
      "outputs": []
    },
    {
      "cell_type": "code",
      "source": [
        "scores1_std = my_std(scores1)\n",
        "scores2_std = my_std(scores2)\n",
        "\n",
        "print(\"scores1 std:\", scores1_std)\n",
        "print(\"scores2 std:\", scores2_std)"
      ],
      "metadata": {
        "colab": {
          "base_uri": "https://localhost:8080/"
        },
        "id": "XscWsHd88aX3",
        "outputId": "38643358-f7c8-4c82-9c48-a127d4b971a6"
      },
      "execution_count": null,
      "outputs": [
        {
          "output_type": "stream",
          "name": "stdout",
          "text": [
            "scores1 std: 14.142135623730951\n",
            "scores2 std: 7.0710678118654755\n"
          ]
        }
      ]
    },
    {
      "cell_type": "markdown",
      "source": [
        "## 度数分布表とヒストグラム\n",
        "\n",
        "### 度数分布表（どすうぶんぷひょう）\n",
        "\n",
        "- 度数（どすう）：データの出現回数\n",
        "- 度数分布表：度数の分布を表にしたもの\n",
        "\n",
        "#### 例\n",
        "\n",
        "```\n",
        "scores5 = [85, 71, 74, 48, 86, 59, 63, 71, 71, 39,  \n",
        "           64, 61, 73, 64, 75, 57, 59, 63, 58, 63,\n",
        "           49, 64, 59, 57, 58, 48, 64, 61, 63, 49]\n",
        "```\n",
        "\n",
        "- 度数分布表\n",
        "\n",
        "|階級（かいきゅう） |度数 |\n",
        "|:-- |:-- |\n",
        "|0 - 9|   0|\n",
        "|10 - 19| 0|\n",
        "|20 - 29| 0|\n",
        "|30 - 39| 1|\n",
        "|40 - 49| 4|\n",
        "|50 - 59| 7|\n",
        "|60 - 69| 10|\n",
        "|70 - 79| 6|\n",
        "|80 - 89| 2|\n",
        "|90 - 100| 0|\n",
        "\n",
        "> 階級（かいきゅう）とは、データを区切る範囲のことです。最後の階級のみ、90 - 100になっている点に注意してください"
      ],
      "metadata": {
        "id": "mO-ZKvrpGIch"
      }
    },
    {
      "cell_type": "code",
      "source": [
        "scores5 = [85, 71, 74, 48, 86, 59, 63, 71, 71, 39,\n",
        "           64, 61, 73, 64, 75, 57, 59, 63, 58, 63,\n",
        "           49, 64, 59, 57, 58, 48, 64, 61, 63, 49]"
      ],
      "metadata": {
        "id": "c60-lRXvIwa4"
      },
      "execution_count": null,
      "outputs": []
    },
    {
      "cell_type": "code",
      "source": [
        "# 度数分布表を出力する関数\n",
        "# frequency = 度数 = データの出現回数\n",
        "def my_frequency(numbers):\n",
        "  width = [0, 10, 20, 30, 40, 50, 60, 70, 80, 90, 100]\n",
        "  for i in range(len(width)):\n",
        "\n",
        "    # 最後の1周は処理しない\n",
        "    if i == len(width) - 1:\n",
        "      break\n",
        "\n",
        "    w1 = width[i]\n",
        "\n",
        "    if i == len(width) - 2:\n",
        "      w2 = width[i + 1]\n",
        "    else:\n",
        "      w2 = width[i + 1] - 1\n",
        "\n",
        "    frequency = 0\n",
        "    for number in numbers:\n",
        "      if w1 <= number and number <= w2:\n",
        "        frequency += 1\n",
        "\n",
        "    print(f\"{w1} - {w2}: {frequency}\")"
      ],
      "metadata": {
        "id": "YFZxhEPGI1UI"
      },
      "execution_count": null,
      "outputs": []
    },
    {
      "cell_type": "code",
      "source": [
        "my_frequency(scores5)"
      ],
      "metadata": {
        "colab": {
          "base_uri": "https://localhost:8080/"
        },
        "id": "zxDZerDEKJup",
        "outputId": "c711fbb0-5015-4d3a-f096-6e38bfe620ae"
      },
      "execution_count": null,
      "outputs": [
        {
          "output_type": "stream",
          "name": "stdout",
          "text": [
            "0 - 9: 0\n",
            "10 - 19: 0\n",
            "20 - 29: 0\n",
            "30 - 39: 1\n",
            "40 - 49: 4\n",
            "50 - 59: 7\n",
            "60 - 69: 10\n",
            "70 - 79: 6\n",
            "80 - 89: 2\n",
            "90 - 100: 0\n"
          ]
        }
      ]
    },
    {
      "cell_type": "markdown",
      "source": [
        "### ヒストグラム\n",
        "\n",
        "- 度数分布表を、棒グラフにしたもの\n",
        "- 度数（出現回数）をグラフに出力する\n",
        "\n",
        "> 今回は、matplotlibというグラフ表示ライブラリを使います"
      ],
      "metadata": {
        "id": "lLFJJGUJMKVJ"
      }
    },
    {
      "cell_type": "code",
      "source": [
        "import matplotlib.pyplot as plt\n",
        "\n",
        "def my_histogram(numbers):\n",
        "  width = [0, 10, 20, 30, 40, 50, 60, 70, 80, 90, 100]\n",
        "  plt.grid()\n",
        "  plt.hist(numbers, bins=width)\n",
        "  plt.show()"
      ],
      "metadata": {
        "id": "DcXVWUeMMgGx"
      },
      "execution_count": null,
      "outputs": []
    },
    {
      "cell_type": "code",
      "source": [
        "my_histogram(scores5)"
      ],
      "metadata": {
        "colab": {
          "base_uri": "https://localhost:8080/",
          "height": 430
        },
        "id": "VKuYKzhWM9j5",
        "outputId": "94e4617b-210e-4528-99d2-3da9a82b3610"
      },
      "execution_count": null,
      "outputs": [
        {
          "output_type": "display_data",
          "data": {
            "text/plain": [
              "<Figure size 640x480 with 1 Axes>"
            ],
            "image/png": "[encoded data removed]"
          },
          "metadata": {}
        }
      ]
    },
    {
      "cell_type": "markdown",
      "source": [
        "## 参考：箱ひげ図\n",
        "\n",
        "- ヒストグラムと同様にデータの分布を確認する図\n",
        "- 英語でBox Plotと呼ぶ\n",
        "\n",
        "- 箱の中の線は、50%点（中央値）を意味する\n",
        "- 箱の上段、下段は、75%、25%点を意味する\n",
        "- ひげの上段、下段は、100%、0%点（最大値、最小値）を意味する\n",
        "\n",
        "> IQR（四分位範囲）の1.5倍を超えたものを、外れ値として表示する（※あとで確認します）"
      ],
      "metadata": {
        "id": "baHYCSdzOuu6"
      }
    },
    {
      "cell_type": "code",
      "source": [
        "def my_box_plot(numbers):\n",
        "  plt.boxplot(numbers)\n",
        "  plt.show()"
      ],
      "metadata": {
        "id": "DZeHO245O835"
      },
      "execution_count": null,
      "outputs": []
    },
    {
      "cell_type": "code",
      "source": [
        "my_box_plot(scores5)"
      ],
      "metadata": {
        "colab": {
          "base_uri": "https://localhost:8080/",
          "height": 430
        },
        "id": "i_bn0LH6PEnJ",
        "outputId": "2494380a-7887-4eaf-d4bf-a1cb6006b3b4"
      },
      "execution_count": null,
      "outputs": [
        {
          "output_type": "display_data",
          "data": {
            "text/plain": [
              "<Figure size 640x480 with 1 Axes>"
            ],
            "image/png": "[encoded data removed]"
          },
          "metadata": {}
        }
      ]
    },
    {
      "cell_type": "markdown",
      "source": [
        "# 参考：次回の内容\n",
        "\n",
        "- 線形回帰アルゴリズム（Linear Regression）\n",
        "\n",
        "- 次のような式があるとします\n",
        "\n",
        "$$\n",
        "y = 5 x + 10\n",
        "$$\n",
        "\n",
        "- この式における 5 の部分を係数（けいすう：Coefficient）と呼びます\n",
        "- この式における 5 の部分を切片（せっぺん：Intercept）と呼びます\n",
        "\n",
        "- 機械学習（線形回帰アルゴリズム）では、データから係数や切片を計算します\n"
      ],
      "metadata": {
        "id": "FY8cR_SBRzAp"
      }
    },
    {
      "cell_type": "code",
      "source": [
        "# Pythonで y = 5x + 10 をグラフにする\n",
        "\n",
        "import numpy as np\n",
        "\n",
        "x = np.linspace(0, 10, 11)\n",
        "y = 5 * x + 10\n",
        "\n",
        "plt.grid()\n",
        "plt.plot(x, y)\n",
        "plt.show()"
      ],
      "metadata": {
        "colab": {
          "base_uri": "https://localhost:8080/",
          "height": 430
        },
        "id": "4lpc6OgkSrdr",
        "outputId": "277f2653-7bd8-40fe-818e-8644e9854ed0"
      },
      "execution_count": null,
      "outputs": [
        {
          "output_type": "display_data",
          "data": {
            "text/plain": [
              "<Figure size 640x480 with 1 Axes>"
            ],
            "image/png": "[encoded data removed]"
          },
          "metadata": {}
        }
      ]
    },
    {
      "cell_type": "code",
      "source": [
        "# 次回はこんな感じの勉強をします\n",
        "\n",
        "x = np.array([1, 2, 3, 4, 5 6, 7, 8, 9])\n",
        "y = np.array([4.4, 7.2, 13.8, 11.9, 16.2, 21.2, 25.0, 24.2, 26.8])"
      ],
      "metadata": {
        "id": "mOi2OXHWTNQS"
      },
      "execution_count": null,
      "outputs": []
    },
    {
      "cell_type": "code",
      "source": [
        "plt.scatter(x, y)"
      ],
      "metadata": {
        "colab": {
          "base_uri": "https://localhost:8080/",
          "height": 449
        },
        "id": "slFtsAj4TVIC",
        "outputId": "b31aa8a1-04e0-408d-b77e-639d20c5c8bc"
      },
      "execution_count": null,
      "outputs": [
        {
          "output_type": "execute_result",
          "data": {
            "text/plain": [
              "<matplotlib.collections.PathCollection at 0x79670e008c10>"
            ]
          },
          "metadata": {},
          "execution_count": 42
        },
        {
          "output_type": "display_data",
          "data": {
            "text/plain": [
              "<Figure size 640x480 with 1 Axes>"
            ],
            "image/png": "[encoded data removed]"
          },
          "metadata": {}
        }
      ]
    },
    {
      "cell_type": "code",
      "source": [
        "# 次回はscikit-learnという機械学習ライブラリを使います"
      ],
      "metadata": {
        "id": "BEG2tK8CTiYC"
      },
      "execution_count": null,
      "outputs": []
    }
  ]
}